{
 "cells": [
  {
   "cell_type": "code",
   "execution_count": 1,
   "metadata": {},
   "outputs": [
    {
     "name": "stderr",
     "output_type": "stream",
     "text": [
      "Using TensorFlow backend.\n"
     ]
    }
   ],
   "source": [
    "#predicting the median price of a house in Boston in mid 1970s given the data points about Boston which are crime rate,property taxes etc\n",
    "from keras.datasets import boston_housing as BH\n",
    "(train_data,train_targets),(test_data,test_targets) = BH.load_data()"
   ]
  },
  {
   "cell_type": "code",
   "execution_count": 2,
   "metadata": {},
   "outputs": [
    {
     "name": "stdout",
     "output_type": "stream",
     "text": [
      "The shape of training data set,training target,test data set and test targets\n",
      "(404, 13)\n",
      "(404,)\n",
      "(102, 13)\n",
      "(102,)\n"
     ]
    }
   ],
   "source": [
    "print(\"The shape of training data set,training target,test data set and test targets\")\n",
    "print(train_data.shape)\n",
    "print(train_targets.shape)\n",
    "print(test_data.shape)\n",
    "print(test_targets.shape)"
   ]
  },
  {
   "cell_type": "code",
   "execution_count": 3,
   "metadata": {},
   "outputs": [
    {
     "name": "stdout",
     "output_type": "stream",
     "text": [
      "The house [ 18.0846   0.      18.1      0.       0.679    6.434  100.       1.8347\n",
      "  24.     666.      20.2     27.25    29.05  ] would go for 7.2\n"
     ]
    }
   ],
   "source": [
    "print(\"The house {} would go for {}\".format(test_data[0],test_targets[0]))\n",
    "#The range of values of each features are large.Hence we normalize.\n",
    "#ex:for a house in boston with crime rate 1.55,ZN -0.483 ..... 13 columns,the price is 7.2k$"
   ]
  },
  {
   "cell_type": "code",
   "execution_count": 4,
   "metadata": {},
   "outputs": [],
   "source": [
    "#normalization of features vertically down the column\n",
    "import numpy as np\n",
    "mean = train_data.mean(axis = 0)\n",
    "std = train_data.std(axis = 0)\n",
    "train_data-=mean\n",
    "train_data/=std\n",
    "test_data-=mean\n",
    "test_data/=std"
   ]
  },
  {
   "cell_type": "code",
   "execution_count": 5,
   "metadata": {},
   "outputs": [],
   "source": [
    "from keras import models\n",
    "from keras import layers\n",
    "\n",
    "#building the model\n",
    "def build_model():\n",
    "    model = models.Sequential()\n",
    "    model.add(layers.Dense(64,activation = \"relu\",input_shape = (13,)))\n",
    "    model.add(layers.Dense(64,activation = \"relu\"))\n",
    "    model.add(layers.Dense(1)) #output layer without activation since we want a linear prediction\n",
    "    model.compile(optimizer = \"rmsprop\",loss = \"mse\",metrics = [\"mae\"])\n",
    "    return model"
   ]
  },
  {
   "cell_type": "code",
   "execution_count": 6,
   "metadata": {},
   "outputs": [
    {
     "name": "stdout",
     "output_type": "stream",
     "text": [
      "101\n"
     ]
    }
   ],
   "source": [
    "#k fold validation\n",
    "k = 4 #total number of folds\n",
    "num_fold_samples = len(train_data)//k #no of samples per fold\n",
    "num_epochs = 500\n",
    "all_val_scores = []\n",
    "all_mae_history = []\n",
    "print(num_fold_samples)"
   ]
  },
  {
   "cell_type": "code",
   "execution_count": 7,
   "metadata": {},
   "outputs": [],
   "source": [
    "import numpy as np\n",
    "from sklearn.model_selection import KFold\n",
    "\n",
    "kfold = KFold(k,False) #split into 4 groups without shuffling\n",
    "\n",
    "#kfold.split() will give the array indices to use for training and validating\n",
    "for (dataTuple,targetTuple) in zip(kfold.split(train_data),kfold.split(train_targets)): #splitting the data into train and validate using split\n",
    "    (trainData,validateData) = dataTuple\n",
    "    (trainLabel,validateLabel) = targetTuple\n",
    "    model = build_model()\n",
    "    historyObj = model.fit(train_data[trainData],train_targets[trainLabel],validation_data = (train_data[validateData],\n",
    "                                                                   train_targets[validateLabel]),\n",
    "                           batch_size = 1,\n",
    "                           epochs = num_epochs,\n",
    "                          verbose = 0)\n",
    "    \n",
    "    mae_history = historyObj.history[\"val_mean_absolute_error\"]\n",
    "    all_mae_history.append(mae_history)"
   ]
  },
  {
   "cell_type": "code",
   "execution_count": 8,
   "metadata": {},
   "outputs": [
    {
     "data": {
      "text/plain": [
       "<Figure size 640x480 with 1 Axes>"
      ]
     },
     "metadata": {},
     "output_type": "display_data"
    }
   ],
   "source": [
    "#plotting the validation scores vs the epochs\n",
    "import matplotlib.pyplot as plt\n",
    "x = [x for x in range(10,num_epochs)]\n",
    "y = [np.mean([x[i] for x in all_mae_history]) for i in range(10,num_epochs)]\n",
    "plt.xlabel(\"epochs\")\n",
    "plt.ylabel(\"validation mae\")\n",
    "plt.plot(x,y)\n",
    "plt.show()"
   ]
  },
  {
   "cell_type": "code",
   "execution_count": 9,
   "metadata": {},
   "outputs": [
    {
     "name": "stdout",
     "output_type": "stream",
     "text": [
      "102/102 [==============================] - 0s 489us/step\n"
     ]
    }
   ],
   "source": [
    "#hence from above graph we can tell that after 80 epochs the mae starts increasing and overfitting\n",
    "#starts,hence optimal epoch = 80\n",
    "#no need val_data as we have already done it\n",
    "final_model = build_model()\n",
    "final_model.fit(train_data,train_targets,epochs = num_epochs,batch_size = 16,verbose = 0)\n",
    "test_mse,test_mae = final_model.evaluate(test_data,test_targets)"
   ]
  },
  {
   "cell_type": "code",
   "execution_count": 10,
   "metadata": {},
   "outputs": [
    {
     "name": "stdout",
     "output_type": "stream",
     "text": [
      "2.628593052134794\n"
     ]
    }
   ],
   "source": [
    "print(test_mae)#we are still off by 2.63k$ for a predicted house"
   ]
  }
 ],
 "metadata": {
  "kernelspec": {
   "display_name": "Python 3",
   "language": "python",
   "name": "python3"
  },
  "language_info": {
   "codemirror_mode": {
    "name": "ipython",
    "version": 3
   },
   "file_extension": ".py",
   "mimetype": "text/x-python",
   "name": "python",
   "nbconvert_exporter": "python",
   "pygments_lexer": "ipython3",
   "version": "3.5.6"
  }
 },
 "nbformat": 4,
 "nbformat_minor": 4
}
